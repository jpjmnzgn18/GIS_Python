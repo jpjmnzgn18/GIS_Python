{
 "cells": [
  {
   "cell_type": "markdown",
   "id": "41a56144",
   "metadata": {},
   "source": [
    "# Script Objective & Work Plan"
   ]
  },
  {
   "cell_type": "markdown",
   "id": "cfde42f3",
   "metadata": {},
   "source": [
    "### Giving as an input contour lines or a DEM, the script will generate aspect, slope, hillshade and curvature rasters. The user should specify the units for slope raster (degrees or percent rise) and which method is used to calculate aspect and slope, wether geodesic or planar (geodesic is better for long very long extensions). The rasters will be saved in an output folder specified by the user."
   ]
  },
  {
   "cell_type": "code",
   "execution_count": null,
   "id": "a222f336",
   "metadata": {},
   "outputs": [],
   "source": []
  },
  {
   "cell_type": "markdown",
   "id": "c47b2852",
   "metadata": {},
   "source": [
    "# Python Code and Output"
   ]
  },
  {
   "cell_type": "code",
   "execution_count": null,
   "id": "68f17b2e",
   "metadata": {},
   "outputs": [],
   "source": [
    "# At this point this are the libraries I've seen that I might need\n",
    "\n",
    "import os\n",
    "import numpy as np\n",
    "import rasterio\n",
    "from rasterio.features import rasterize\n",
    "from richdem import TerrainAttribute, LoadGDAL, SaveGDAL\n",
    "from osgeo import gdal\n",
    "from pyproj import Proj, transform\n",
    "import argparse\n",
    "\n",
    "# Initial question to define if a DEM will be generated or if it already exists\n",
    "\n",
    "#  Code to generate the DEM in case of having contour lines\n",
    "\n",
    "# Function which will generate all of the rasters\n",
    "\n",
    "def generate_rasters(input_dem, output_folder, slope_units, method): # Still need to make some adjustments but these are the inputs needed\n",
    "\n",
    " \"\"\"\n",
    "    Generate aspect, slope, hillshade, and curvature rasters from an input DEM.\n",
    "    \n",
    "    Parameters:\n",
    "        input_dem (str): Path to the input DEM file.\n",
    "        output_folder (str): Path to the output folder.\n",
    "        slope_units (str): 'degrees' or 'percent' for slope output.\n",
    "        method (str): 'planar' or 'geodesic' for aspect and slope calculations.\n",
    " \"\"\"\n",
    "\n",
    "    # Hillshade\n",
    "        hillshade = TerrainAttribute(dem, attrib='hillshade', method=method)\n",
    "        SaveGDAL(os.path.join(output_folder, \"hillshade.tif\"), hillshade)\n",
    "\n",
    "    # Curvature\n",
    "        curvature = TerrainAttribute(dem, attrib='curvature', method=method)\n",
    "        SaveGDAL(os.path.join(output_folder, \"curvature.tif\"), curvature)\n",
    "        print(f\"Rasters saved to {output_folder}\")"
   ]
  },
  {
   "cell_type": "markdown",
   "id": "3d21c004",
   "metadata": {},
   "source": [
    "# Future Work Plan"
   ]
  },
  {
   "cell_type": "markdown",
   "id": "586b5835",
   "metadata": {},
   "source": [
    "### Generate the code to generate the DEM in case that contour lines are an input. Also, the code to create the slope and aspect rasters. And defining the output folder. Once all of this is done, maybe try adding more variables to edit like the cell size and other parameters."
   ]
  },
  {
   "cell_type": "code",
   "execution_count": null,
   "id": "4403a4a7",
   "metadata": {},
   "outputs": [],
   "source": []
  }
 ],
 "metadata": {
  "kernelspec": {
   "display_name": "Python 3 (ipykernel)",
   "language": "python",
   "name": "python3"
  },
  "language_info": {
   "codemirror_mode": {
    "name": "ipython",
    "version": 3
   },
   "file_extension": ".py",
   "mimetype": "text/x-python",
   "name": "python",
   "nbconvert_exporter": "python",
   "pygments_lexer": "ipython3",
   "version": "3.9.18"
  }
 },
 "nbformat": 4,
 "nbformat_minor": 5
}
